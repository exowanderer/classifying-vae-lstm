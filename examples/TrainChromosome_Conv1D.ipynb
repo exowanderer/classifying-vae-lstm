{
  "nbformat": 4,
  "nbformat_minor": 0,
  "metadata": {
    "colab": {
      "name": "TrainChromosome_Conv1D",
      "version": "0.3.2",
      "provenance": [],
      "collapsed_sections": []
    },
    "kernelspec": {
      "name": "python3",
      "display_name": "Python 3"
    },
    "accelerator": "GPU"
  },
  "cells": [
    {
      "cell_type": "code",
      "metadata": {
        "id": "teXCRnB1Ps1c",
        "colab_type": "code",
        "colab": {
          "base_uri": "https://localhost:8080/",
          "height": 136
        },
        "outputId": "c8c828dd-79e3-415a-aa9a-1d4c107114e2"
      },
      "source": [
        "!git clone https://github.com/exowanderer/vaelstmpredictor"
      ],
      "execution_count": 1,
      "outputs": [
        {
          "output_type": "stream",
          "text": [
            "Cloning into 'vaelstmpredictor'...\n",
            "remote: Enumerating objects: 227, done.\u001b[K\n",
            "remote: Counting objects: 100% (227/227), done.\u001b[K\n",
            "remote: Compressing objects: 100% (133/133), done.\u001b[K\n",
            "remote: Total 3428 (delta 154), reused 148 (delta 93), pack-reused 3201\n",
            "Receiving objects: 100% (3428/3428), 15.34 MiB | 20.00 MiB/s, done.\n",
            "Resolving deltas: 100% (2429/2429), done.\n"
          ],
          "name": "stdout"
        }
      ]
    },
    {
      "cell_type": "code",
      "metadata": {
        "id": "PwWblQVVQDXh",
        "colab_type": "code",
        "colab": {
          "base_uri": "https://localhost:8080/",
          "height": 377
        },
        "outputId": "0104f4f7-c695-4a64-993e-baf04524806b"
      },
      "source": [
        "!pip install paramiko"
      ],
      "execution_count": 2,
      "outputs": [
        {
          "output_type": "stream",
          "text": [
            "Collecting paramiko\n",
            "\u001b[?25l  Downloading https://files.pythonhosted.org/packages/4b/80/74dace9e48b0ef923633dfb5e48798f58a168e4734bca8ecfaf839ba051a/paramiko-2.6.0-py2.py3-none-any.whl (199kB)\n",
            "\u001b[K     |████████████████████████████████| 204kB 2.8MB/s \n",
            "\u001b[?25hCollecting cryptography>=2.5 (from paramiko)\n",
            "\u001b[?25l  Downloading https://files.pythonhosted.org/packages/97/18/c6557f63a6abde34707196fb2cad1c6dc0dbff25a200d5044922496668a4/cryptography-2.7-cp34-abi3-manylinux1_x86_64.whl (2.3MB)\n",
            "\u001b[K     |████████████████████████████████| 2.3MB 42.0MB/s \n",
            "\u001b[?25hCollecting bcrypt>=3.1.3 (from paramiko)\n",
            "\u001b[?25l  Downloading https://files.pythonhosted.org/packages/8b/1d/82826443777dd4a624e38a08957b975e75df859b381ae302cfd7a30783ed/bcrypt-3.1.7-cp34-abi3-manylinux1_x86_64.whl (56kB)\n",
            "\u001b[K     |████████████████████████████████| 61kB 22.3MB/s \n",
            "\u001b[?25hCollecting pynacl>=1.0.1 (from paramiko)\n",
            "\u001b[?25l  Downloading https://files.pythonhosted.org/packages/27/15/2cd0a203f318c2240b42cd9dd13c931ddd61067809fee3479f44f086103e/PyNaCl-1.3.0-cp34-abi3-manylinux1_x86_64.whl (759kB)\n",
            "\u001b[K     |████████████████████████████████| 768kB 37.4MB/s \n",
            "\u001b[?25hRequirement already satisfied: six>=1.4.1 in /usr/local/lib/python3.6/dist-packages (from cryptography>=2.5->paramiko) (1.12.0)\n",
            "Collecting asn1crypto>=0.21.0 (from cryptography>=2.5->paramiko)\n",
            "\u001b[?25l  Downloading https://files.pythonhosted.org/packages/ea/cd/35485615f45f30a510576f1a56d1e0a7ad7bd8ab5ed7cdc600ef7cd06222/asn1crypto-0.24.0-py2.py3-none-any.whl (101kB)\n",
            "\u001b[K     |████████████████████████████████| 102kB 28.6MB/s \n",
            "\u001b[?25hRequirement already satisfied: cffi!=1.11.3,>=1.8 in /usr/local/lib/python3.6/dist-packages (from cryptography>=2.5->paramiko) (1.12.3)\n",
            "Requirement already satisfied: pycparser in /usr/local/lib/python3.6/dist-packages (from cffi!=1.11.3,>=1.8->cryptography>=2.5->paramiko) (2.19)\n",
            "Installing collected packages: asn1crypto, cryptography, bcrypt, pynacl, paramiko\n",
            "Successfully installed asn1crypto-0.24.0 bcrypt-3.1.7 cryptography-2.7 paramiko-2.6.0 pynacl-1.3.0\n"
          ],
          "name": "stdout"
        }
      ]
    },
    {
      "cell_type": "code",
      "metadata": {
        "id": "YkPZKGkWP-Sy",
        "colab_type": "code",
        "colab": {}
      },
      "source": [
        "import os\n",
        "os.chdir('/content/vaelstmpredictor')"
      ],
      "execution_count": 0,
      "outputs": []
    },
    {
      "cell_type": "code",
      "metadata": {
        "id": "8AkQTVXITQSl",
        "colab_type": "code",
        "colab": {
          "base_uri": "https://localhost:8080/",
          "height": 51
        },
        "outputId": "eee63f13-0b93-4555-8625-bfc6993fdca8"
      },
      "source": [
        "!git checkout regression"
      ],
      "execution_count": 4,
      "outputs": [
        {
          "output_type": "stream",
          "text": [
            "Branch 'regression' set up to track remote branch 'regression' from 'origin'.\n",
            "Switched to a new branch 'regression'\n"
          ],
          "name": "stdout"
        }
      ]
    },
    {
      "cell_type": "code",
      "metadata": {
        "id": "72h_hI1KQUyh",
        "colab_type": "code",
        "colab": {
          "base_uri": "https://localhost:8080/",
          "height": 51
        },
        "outputId": "6529f4ac-5dbe-44ea-d2c2-26e64fc378e3"
      },
      "source": [
        "!git branch"
      ],
      "execution_count": 5,
      "outputs": [
        {
          "output_type": "stream",
          "text": [
            "  master\u001b[m\n",
            "* \u001b[32mregression\u001b[m\n"
          ],
          "name": "stdout"
        }
      ]
    },
    {
      "cell_type": "code",
      "metadata": {
        "id": "krvVXH8rS59x",
        "colab_type": "code",
        "colab": {
          "base_uri": "https://localhost:8080/",
          "height": 34
        },
        "outputId": "ad6f4079-01f2-411e-bd95-44f9e47938bb"
      },
      "source": [
        "!git pull"
      ],
      "execution_count": 6,
      "outputs": [
        {
          "output_type": "stream",
          "text": [
            "Already up to date.\n"
          ],
          "name": "stdout"
        }
      ]
    },
    {
      "cell_type": "code",
      "metadata": {
        "id": "apLK6Tpu7xaJ",
        "colab_type": "code",
        "colab": {
          "base_uri": "https://localhost:8080/",
          "height": 34
        },
        "outputId": "509519cc-869e-41b9-bd52-565f66631e63"
      },
      "source": [
        "pwd"
      ],
      "execution_count": 7,
      "outputs": [
        {
          "output_type": "execute_result",
          "data": {
            "text/plain": [
              "'/content/vaelstmpredictor'"
            ]
          },
          "metadata": {
            "tags": []
          },
          "execution_count": 7
        }
      ]
    },
    {
      "cell_type": "code",
      "metadata": {
        "id": "UNcAv5UICoHQ",
        "colab_type": "code",
        "colab": {
          "base_uri": "https://localhost:8080/",
          "height": 121
        },
        "outputId": "5ecd24ca-7adc-4f85-eece-58616e87cebd"
      },
      "source": [
        "from google.colab import drive\n",
        "drive.mount('/content/drive')"
      ],
      "execution_count": 8,
      "outputs": [
        {
          "output_type": "stream",
          "text": [
            "Go to this URL in a browser: https://accounts.google.com/o/oauth2/auth?client_id=947318989803-6bn6qk8qdgf4n4g3pfee6491hc0brc4i.apps.googleusercontent.com&redirect_uri=urn%3Aietf%3Awg%3Aoauth%3A2.0%3Aoob&scope=email%20https%3A%2F%2Fwww.googleapis.com%2Fauth%2Fdocs.test%20https%3A%2F%2Fwww.googleapis.com%2Fauth%2Fdrive%20https%3A%2F%2Fwww.googleapis.com%2Fauth%2Fdrive.photos.readonly%20https%3A%2F%2Fwww.googleapis.com%2Fauth%2Fpeopleapi.readonly&response_type=code\n",
            "\n",
            "Enter your authorization code:\n",
            "··········\n",
            "Mounted at /content/drive\n"
          ],
          "name": "stdout"
        }
      ]
    },
    {
      "cell_type": "code",
      "metadata": {
        "id": "I8k-_2h5CvMC",
        "colab_type": "code",
        "colab": {}
      },
      "source": [
        "ls /content/drive/My\\ Drive/"
      ],
      "execution_count": 0,
      "outputs": []
    },
    {
      "cell_type": "code",
      "metadata": {
        "id": "9DWiUIhDDy2C",
        "colab_type": "code",
        "colab": {
          "base_uri": "https://localhost:8080/",
          "height": 162
        },
        "outputId": "9e7f0b6f-197a-4375-df42-9f2d3807dcb6"
      },
      "source": [
        "os.mkdir(os.environ['HOME'] + '.vaelstmpredictor/')"
      ],
      "execution_count": 16,
      "outputs": [
        {
          "output_type": "error",
          "ename": "FileExistsError",
          "evalue": "ignored",
          "traceback": [
            "\u001b[0;31m---------------------------------------------------------------------------\u001b[0m",
            "\u001b[0;31mFileExistsError\u001b[0m                           Traceback (most recent call last)",
            "\u001b[0;32m<ipython-input-16-a88865b1cbcb>\u001b[0m in \u001b[0;36m<module>\u001b[0;34m()\u001b[0m\n\u001b[0;32m----> 1\u001b[0;31m \u001b[0mos\u001b[0m\u001b[0;34m.\u001b[0m\u001b[0mmkdir\u001b[0m\u001b[0;34m(\u001b[0m\u001b[0mos\u001b[0m\u001b[0;34m.\u001b[0m\u001b[0menviron\u001b[0m\u001b[0;34m[\u001b[0m\u001b[0;34m'HOME'\u001b[0m\u001b[0;34m]\u001b[0m \u001b[0;34m+\u001b[0m \u001b[0;34m'.vaelstmpredictor/'\u001b[0m\u001b[0;34m)\u001b[0m\u001b[0;34m\u001b[0m\u001b[0;34m\u001b[0m\u001b[0m\n\u001b[0m",
            "\u001b[0;31mFileExistsError\u001b[0m: [Errno 17] File exists: '/root.vaelstmpredictor/'"
          ]
        }
      ]
    },
    {
      "cell_type": "code",
      "metadata": {
        "id": "EgzksC1cDohi",
        "colab_type": "code",
        "colab": {
          "base_uri": "https://localhost:8080/",
          "height": 185
        },
        "outputId": "72b75254-6141-4303-aa7b-262203a8e37b"
      },
      "source": [
        "!rsync -rPvua /content/drive/My\\ Drive/data /root/.vaelstmpredictor/"
      ],
      "execution_count": 17,
      "outputs": [
        {
          "output_type": "stream",
          "text": [
            "sending incremental file list\n",
            "created directory /root/.vaelstmpredictor\n",
            "data/\n",
            "data/exoplanet_spectral_database.joblib.save\n",
            "  2,165,842,183 100%   68.13MB/s    0:00:30 (xfr#1, to-chk=1/3)\n",
            "data/exoplanet_spectral_database_normalized.joblib.save\n",
            "  2,165,842,226 100%   61.80MB/s    0:00:33 (xfr#2, to-chk=0/3)\n",
            "\n",
            "sent 4,332,742,170 bytes  received 104 bytes  67,174,298.82 bytes/sec\n",
            "total size is 4,331,684,409  speedup is 1.00\n"
          ],
          "name": "stdout"
        }
      ]
    },
    {
      "cell_type": "code",
      "metadata": {
        "id": "POaXvkdPEV9C",
        "colab_type": "code",
        "colab": {
          "base_uri": "https://localhost:8080/",
          "height": 50
        },
        "outputId": "5781d7b8-07f5-4ef7-8a90-b77bd8b0648f"
      },
      "source": [
        "ls /root/.vaelstmpredictor/data"
      ],
      "execution_count": 23,
      "outputs": [
        {
          "output_type": "stream",
          "text": [
            "exoplanet_spectral_database.joblib.save\n",
            "exoplanet_spectral_database_normalized.joblib.save\n"
          ],
          "name": "stdout"
        }
      ]
    },
    {
      "cell_type": "code",
      "metadata": {
        "id": "3BLZ-A7dQJLR",
        "colab_type": "code",
        "colab": {
          "base_uri": "https://localhost:8080/",
          "height": 34
        },
        "outputId": "bbb8aa6c-4653-4bc7-f5b6-54e30d9cb45b"
      },
      "source": [
        "from TrainChromosome_Conv1D import *"
      ],
      "execution_count": 24,
      "outputs": [
        {
          "output_type": "stream",
          "text": [
            "Using TensorFlow backend.\n"
          ],
          "name": "stderr"
        }
      ]
    },
    {
      "cell_type": "code",
      "metadata": {
        "id": "zwprCaLqQZWw",
        "colab_type": "code",
        "colab": {}
      },
      "source": [
        "hostname = 'colab'"
      ],
      "execution_count": 0,
      "outputs": []
    },
    {
      "cell_type": "code",
      "metadata": {
        "id": "erfH8gTkQ9wB",
        "colab_type": "code",
        "colab": {}
      },
      "source": [
        "class blankClass(object):\n",
        "\tdef __init__(self):\n",
        "\t\tpass"
      ],
      "execution_count": 0,
      "outputs": []
    },
    {
      "cell_type": "code",
      "metadata": {
        "id": "vsaqnSMbQr4c",
        "colab_type": "code",
        "colab": {}
      },
      "source": [
        "clargs = blankClass()"
      ],
      "execution_count": 0,
      "outputs": []
    },
    {
      "cell_type": "code",
      "metadata": {
        "id": "GA5zcrYiQ-yS",
        "colab_type": "code",
        "colab": {}
      },
      "source": [
        "while True:\n",
        "    try:\n",
        "        info_message('Grabbing Untrained Chromosome')\n",
        "        chromosome = requests.get(\n",
        "            url=\"http://{}/GetUnTrainedChrom\".format(base_url))\n",
        "    except:\n",
        "        chromosome = None\n",
        "\n",
        "    if(chromosome != None and chromosome.text == \"0\"):\n",
        "        info_message(\"No more Chromosomes to train\")\n",
        "        sleep(30)\n",
        "    elif(chromosome != None):\n",
        "        try:\n",
        "            info_message('Accessing Params from Untrained Chromosome')\n",
        "            params = chromosome.json()\n",
        "        except:\n",
        "            continue\n",
        "\n",
        "        clargs.batch_size = params[\"batch_size\"]\n",
        "        clargs.chromosomeID = params[\"chromosomeID\"]\n",
        "        clargs.cross_prob = params[\"cross_prob\"]\n",
        "        clargs.dnn_kl_weight = params[\"dnn_kl_weight\"]\n",
        "        clargs.dnn_log_var_prior = params[\"dnn_log_var_prior\"]\n",
        "        clargs.dnn_weight = params[\"dnn_weight\"]\n",
        "        clargs.fitness = params[\"fitness\"]\n",
        "        clargs.generationID = params[\"generationID\"]\n",
        "        clargs.isTrained = params[\"isTrained\"]\n",
        "        clargs.kl_anneal = params[\"kl_anneal\"]\n",
        "        clargs.log_dir = params[\"log_dir\"]\n",
        "        clargs.do_log = True\n",
        "        clargs.do_ckpt = False\n",
        "        clargs.verbose = True\n",
        "        clargs.save_model = False\n",
        "        #clargs.model_dir = params[\"model_dir\"]\n",
        "        clargs.model_dir = \"data/models\"\n",
        "        clargs.mutate_prob = params[\"mutate_prob\"]\n",
        "        clargs.num_dnn_layers = params[\"num_dnn_layers\"]\n",
        "        clargs.num_epochs = params[\"num_epochs\"]\n",
        "        clargs.num_generations = params[\"num_generations\"]\n",
        "        clargs.num_vae_layers = params[\"num_vae_layers\"]\n",
        "        clargs.optimizer = params[\"optimizer\"]\n",
        "        clargs.patience = params[\"patience\"]\n",
        "        clargs.population_size = params[\"population_size\"]\n",
        "        clargs.prediction_log_var_prior = params[\n",
        "            \"prediction_log_var_prior\"]\n",
        "        clargs.predictor_type = 'regression'  # params[\"predictor_type\"]\n",
        "        clargs.run_name = params[\"run_name\"]\n",
        "        clargs.size_dnn_hidden = params[\"size_dnn_hidden\"]\n",
        "        clargs.size_vae_hidden = params[\"size_vae_hidden\"]\n",
        "        clargs.vae_latent_dim = params[\"size_vae_latent\"]\n",
        "        clargs.table_dir = params[\"table_dir\"]\n",
        "        clargs.train_file = params[\"train_file\"]  # 'mnist'  #\n",
        "        clargs.vae_kl_weight = params[\"vae_kl_weight\"]\n",
        "        clargs.vae_weight = params[\"vae_weight\"]\n",
        "        clargs.w_kl_anneal = params[\"w_kl_anneal\"]\n",
        "        clargs.num_conv_layers = params[\"num_conv_layers\"]\n",
        "        clargs.size_kernel = params[\"size_kernel\"]\n",
        "        clargs.size_pool = params[\"size_pool\"]\n",
        "        clargs.size_filter = params[\"size_filter\"]\n",
        "\n",
        "        clargs.hostname = hostname\n",
        "        clargs.time_stamp = int(time())\n",
        "\n",
        "        vae_hidden_dims = [clargs.size_vae_hidden] * clargs.num_vae_layers\n",
        "        dnn_hidden_dims = [clargs.size_dnn_hidden] * clargs.num_dnn_layers\n",
        "        size_kernel = np.array(json.loads(clargs.size_kernel))\n",
        "        size_pool = np.array(json.loads(clargs.size_pool))\n",
        "        size_filter = np.array(json.loads(clargs.size_filter))\n",
        "\n",
        "        if clargs.train_file == 'exoplanet':\n",
        "            from vaelstmpredictor.utils.data_utils import ExoplanetData\n",
        "            data_instance = ExoplanetData(train_file=None,\n",
        "                                          batch_size=clargs.batch_size)\n",
        "        elif clargs.train_file == 'mnist':\n",
        "            from vaelstmpredictor.utils.data_utils import MNISTData\n",
        "            data_instance = MNISTData(batch_size=clargs.batch_size)\n",
        "        else:\n",
        "            raise Exception(\n",
        "                \"clargs.train_file must be either `exoplanet` or `mnist`\")\n",
        "        _, n_features = data_instance.data_train.shape\n",
        "        _, n_features = data_instance.data_valid.shape\n",
        "        print(data_instance.train_labels.shape)\n",
        "        _, n_labels = data_instance.train_labels.shape\n",
        "        n_channels = 1\n",
        "\n",
        "        data_shape = (n_features, n_channels)\n",
        "\n",
        "        clargs.original_dim = n_features\n",
        "        clargs.n_labels = n_labels\n",
        "        # len(np.unique(data_instance.train_labels))\n",
        "\n",
        "        chrom_params = {}\n",
        "        chrom_params['data_instance'] = data_instance\n",
        "        chrom_params['verbose'] = clargs.verbose\n",
        "        chrom_params['save_model'] = clargs.save_model\n",
        "        chrom_params['vae_hidden_dims'] = vae_hidden_dims\n",
        "        chrom_params['dnn_hidden_dims'] = dnn_hidden_dims\n",
        "        chrom_params['vae_latent_dim'] = clargs.vae_latent_dim\n",
        "        chrom_params['generationID'] = clargs.generationID\n",
        "        chrom_params['chromosomeID'] = clargs.chromosomeID\n",
        "        chrom_params['vae_weight'] = clargs.vae_weight\n",
        "        chrom_params['vae_kl_weight'] = clargs.vae_kl_weight\n",
        "        chrom_params['dnn_weight'] = clargs.dnn_weight\n",
        "        chrom_params['dnn_kl_weight'] = clargs.dnn_kl_weight\n",
        "        chrom_params['num_conv_layers'] = clargs.num_conv_layers\n",
        "        chrom_params['size_kernel'] = size_kernel\n",
        "        chrom_params['size_pool'] = size_pool\n",
        "        chrom_params['size_filter'] = size_filter\n",
        "        chrom_params['clargs'] = clargs\n",
        "        chrom_params['data_shape'] = data_shape\n",
        "\n",
        "        info_message('\\n\\nParams for this VAE_NN:')\n",
        "        for key, val in clargs.__dict__.items():\n",
        "            print('{:20}{}'.format(key, val))\n",
        "\n",
        "        info_message(\"Training Chromosome \" + str(clargs.chromosomeID) +\n",
        "                     \" Generation \" + str(clargs.generationID))\n",
        "        try:\n",
        "            K.clear_session()\n",
        "            chromosome = Chromosome(**chrom_params)\n",
        "            chromosome.verbose = True\n",
        "\n",
        "            start_time = time()\n",
        "\n",
        "            if clargs.verbose:\n",
        "                info_message('Start Training: {}'.format(start_time))\n",
        "\n",
        "            chromosome.model.summary()\n",
        "            # break\n",
        "            chromosome.train(verbose=True)\n",
        "            K.clear_session()\n",
        "\n",
        "            end_time = time()\n",
        "            run_time = end_time - start_time\n",
        "\n",
        "            if clargs.verbose:\n",
        "                info_message('End Training: {}'.format(end_time))\n",
        "                info_message('Runtime Training: {}'.format(run_time))\n",
        "\n",
        "        except Exception as e:\n",
        "            warning_message(\"Error has occured while training\")\n",
        "            print(e)\n",
        "            chromosome = None\n",
        "            continue\n",
        "\n",
        "        info_message('\\n')\n",
        "        print('Result: ', end=\" \")\n",
        "        print('GenerationID: {}'.format(chromosome.generationID), end=\" \")\n",
        "        print('ChromosomeID: {}'.format(chromosome.chromosomeID), end=\" \")\n",
        "        print('Fitness: {}\\n'.format(chromosome.fitness))\n",
        "\n",
        "        params[\"isTrained\"] = 2\n",
        "        params[\"fitness\"] = chromosome.fitness\n",
        "        params[\"val_vae_reconstruction_loss\"] = chromosome.best_loss[\n",
        "            'val_vae_reconstruction_loss']\n",
        "        params[\"val_vae_latent_args_loss\"] = chromosome.best_loss[\n",
        "            'val_vae_latent_args_loss']\n",
        "        params[\"val_dnn_latent_layer_loss\"] = chromosome.best_loss[\n",
        "            'val_dnn_latent_layer_loss']\n",
        "        params[\"val_dnn_latent_mod_loss\"] = chromosome.best_loss[\n",
        "            'val_dnn_latent_mod_loss']\n",
        "        params[\"hostname\"] = clargs.hostname\n",
        "        params[\"start_time\"] = start_time\n",
        "        params[\"end_time\"] = end_time\n",
        "        params[\"run_time\"] = run_time\n",
        "\n",
        "        sent = False\n",
        "        while(not sent):\n",
        "            try:\n",
        "                resp = requests.get(\n",
        "                    url=\"http://{}/AddChrom\".format(base_url),\n",
        "                    params=params)\n",
        "                info_message(\"Response: \" + resp.text)\n",
        "                sent = (resp.text == \"1\")\n",
        "            except:\n",
        "                sent = False\n"
      ],
      "execution_count": 0,
      "outputs": []
    }
  ]
}