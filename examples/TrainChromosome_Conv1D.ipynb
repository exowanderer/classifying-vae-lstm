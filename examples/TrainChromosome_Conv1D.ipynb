{
  "nbformat": 4,
  "nbformat_minor": 0,
  "metadata": {
    "colab": {
      "name": "TrainChromosome_Conv1D",
      "version": "0.3.2",
      "provenance": [],
      "collapsed_sections": []
    },
    "kernelspec": {
      "name": "python3",
      "display_name": "Python 3"
    },
    "accelerator": "GPU"
  },
  "cells": [
    {
      "cell_type": "code",
      "metadata": {
        "id": "teXCRnB1Ps1c",
        "colab_type": "code",
        "colab": {}
      },
      "source": [
        "!git clone https://github.com/exowanderer/vaelstmpredictor"
      ],
      "execution_count": 0,
      "outputs": []
    },
    {
      "cell_type": "code",
      "metadata": {
        "id": "PwWblQVVQDXh",
        "colab_type": "code",
        "colab": {}
      },
      "source": [
        "!pip install paramiko"
      ],
      "execution_count": 0,
      "outputs": []
    },
    {
      "cell_type": "code",
      "metadata": {
        "id": "YkPZKGkWP-Sy",
        "colab_type": "code",
        "colab": {}
      },
      "source": [
        "import os\n",
        "os.chdir('/content/vaelstmpredictor')"
      ],
      "execution_count": 0,
      "outputs": []
    },
    {
      "cell_type": "code",
      "metadata": {
        "id": "8AkQTVXITQSl",
        "colab_type": "code",
        "colab": {}
      },
      "source": [
        "!git checkout sql_based_ga"
      ],
      "execution_count": 0,
      "outputs": []
    },
    {
      "cell_type": "code",
      "metadata": {
        "id": "72h_hI1KQUyh",
        "colab_type": "code",
        "colab": {}
      },
      "source": [
        "!git branch"
      ],
      "execution_count": 0,
      "outputs": []
    },
    {
      "cell_type": "code",
      "metadata": {
        "id": "krvVXH8rS59x",
        "colab_type": "code",
        "colab": {}
      },
      "source": [
        "!git pull"
      ],
      "execution_count": 0,
      "outputs": []
    },
    {
      "cell_type": "code",
      "metadata": {
        "id": "apLK6Tpu7xaJ",
        "colab_type": "code",
        "colab": {}
      },
      "source": [
        "pwd"
      ],
      "execution_count": 0,
      "outputs": []
    },
    {
      "cell_type": "code",
      "metadata": {
        "id": "3BLZ-A7dQJLR",
        "colab_type": "code",
        "colab": {}
      },
      "source": [
        "from TrainChromosome_Conv1D import *"
      ],
      "execution_count": 0,
      "outputs": []
    },
    {
      "cell_type": "code",
      "metadata": {
        "id": "zwprCaLqQZWw",
        "colab_type": "code",
        "colab": {}
      },
      "source": [
        "hostname = 'colab'"
      ],
      "execution_count": 0,
      "outputs": []
    },
    {
      "cell_type": "code",
      "metadata": {
        "id": "erfH8gTkQ9wB",
        "colab_type": "code",
        "colab": {}
      },
      "source": [
        "class blankClass(object):\n",
        "\tdef __init__(self):\n",
        "\t\tpass"
      ],
      "execution_count": 0,
      "outputs": []
    },
    {
      "cell_type": "code",
      "metadata": {
        "id": "vsaqnSMbQr4c",
        "colab_type": "code",
        "colab": {}
      },
      "source": [
        "clargs = blankClass()"
      ],
      "execution_count": 0,
      "outputs": []
    },
    {
      "cell_type": "code",
      "metadata": {
        "id": "GA5zcrYiQ-yS",
        "colab_type": "code",
        "colab": {}
      },
      "source": [
        "while True:\n",
        "  try:\n",
        "    chromosome = requests.get(url=\"http://LAUDeepGenerativeGenetics.pythonanywhere.com/GetUnTrainedChrom\")\n",
        "  except:\n",
        "    chromosome = None\n",
        "  if(chromosome != None and chromosome.text == \"0\"):\n",
        "    info_message(\"No more Chromosomes to train\")\n",
        "    sleep(30)\n",
        "  elif(chromosome != None):\n",
        "    try:\n",
        "      params = chromosome.json()\t\t\n",
        "    except:\t\t\n",
        "      continue\n",
        "\n",
        "    clargs.batch_size = params[\"batch_size\"]\n",
        "    clargs.chromosomeID = params[\"chromosomeID\"]\n",
        "    clargs.cross_prob = params[\"cross_prob\"]\n",
        "    clargs.dnn_kl_weight = params[\"dnn_kl_weight\"]\n",
        "    clargs.dnn_log_var_prior = params[\"dnn_log_var_prior\"]\n",
        "    clargs.dnn_weight = params[\"dnn_weight\"]\n",
        "    clargs.fitness = params[\"fitness\"]\n",
        "    clargs.generationID = params[\"generationID\"]\n",
        "    clargs.isTrained = params[\"isTrained\"]\n",
        "    clargs.kl_anneal = params[\"kl_anneal\"]\n",
        "    clargs.log_dir = params[\"log_dir\"]\n",
        "    clargs.do_log = True\n",
        "    clargs.do_ckpt = False\n",
        "    clargs.verbose = True\n",
        "    clargs.save_model = False\n",
        "    #clargs.model_dir = params[\"model_dir\"]\n",
        "    clargs.model_dir = \"data/models\"\n",
        "    clargs.mutate_prob = params[\"mutate_prob\"]\n",
        "    clargs.num_dnn_layers = params[\"num_dnn_layers\"]\n",
        "    clargs.num_epochs = params[\"num_epochs\"]\n",
        "    clargs.num_generations = params[\"num_generations\"]\n",
        "    clargs.num_vae_layers = params[\"num_vae_layers\"]\n",
        "    clargs.optimizer = params[\"optimizer\"]\n",
        "    clargs.patience = params[\"patience\"]\n",
        "    clargs.population_size = params[\"population_size\"]\n",
        "    clargs.prediction_log_var_prior = params[\"prediction_log_var_prior\"]\n",
        "    clargs.predictor_type = params[\"predictor_type\"]\n",
        "    clargs.run_name = params[\"run_name\"]\n",
        "    clargs.size_dnn_hidden = params[\"size_dnn_hidden\"]\n",
        "    clargs.size_vae_hidden = params[\"size_vae_hidden\"]\n",
        "    clargs.vae_latent_dim = params[\"size_vae_latent\"]\n",
        "    clargs.table_dir = params[\"table_dir\"]\n",
        "    clargs.train_file = params[\"train_file\"]\n",
        "    clargs.vae_kl_weight = params[\"vae_kl_weight\"]\n",
        "    clargs.vae_weight = params[\"vae_weight\"]\n",
        "    clargs.w_kl_anneal = params[\"w_kl_anneal\"]\n",
        "    clargs.num_conv_layers = params[\"num_conv_layers\"]\n",
        "    clargs.size_kernel = params[\"size_kernel\"]\n",
        "    clargs.size_pool = params[\"size_pool\"]\n",
        "    clargs.size_filter = params[\"size_filter\"]\n",
        "\n",
        "    clargs.hostname = hostname\n",
        "    clargs.time_stamp = int(time())\n",
        "\n",
        "    vae_hidden_dims = [clargs.size_vae_hidden]*clargs.num_vae_layers\n",
        "    dnn_hidden_dims = [clargs.size_dnn_hidden]*clargs.num_dnn_layers\n",
        "    size_kernel = np.array(json.loads(clargs.size_kernel))\n",
        "    size_pool = np.array(json.loads(clargs.size_pool))\n",
        "    size_filter = np.array(json.loads(clargs.size_filter))\n",
        "\n",
        "    data_instance = MNISTData(batch_size = clargs.batch_size)\n",
        "\n",
        "    n_train, n_features = data_instance.data_train.shape\n",
        "    n_test, n_features = data_instance.data_valid.shape\n",
        "\n",
        "    clargs.original_dim = n_features\n",
        "    clargs.n_labels = len(np.unique(data_instance.train_labels))\n",
        "\n",
        "    chrom_params = {}\n",
        "    chrom_params['data_instance'] = data_instance\n",
        "    chrom_params['verbose'] = clargs.verbose\n",
        "    chrom_params['save_model'] = clargs.save_model\n",
        "    chrom_params['vae_hidden_dims'] = vae_hidden_dims\n",
        "    chrom_params['dnn_hidden_dims'] = dnn_hidden_dims\n",
        "    chrom_params['vae_latent_dim'] = clargs.vae_latent_dim\n",
        "    chrom_params['generationID'] = clargs.generationID\n",
        "    chrom_params['chromosomeID'] = clargs.chromosomeID\n",
        "    chrom_params['vae_weight'] = clargs.vae_weight\n",
        "    chrom_params['vae_kl_weight'] = clargs.vae_kl_weight\n",
        "    chrom_params['dnn_weight'] = clargs.dnn_weight\n",
        "    chrom_params['dnn_kl_weight'] = clargs.dnn_kl_weight\n",
        "    chrom_params['num_conv_layers'] = clargs.num_conv_layers\n",
        "    chrom_params['size_kernel'] = size_kernel\n",
        "    chrom_params['size_pool'] = size_pool\n",
        "    chrom_params['size_filter'] = size_filter\n",
        "    chrom_params['clargs'] = clargs\n",
        "\n",
        "    info_message('\\n\\nParams for this VAE_NN:')\n",
        "    for key,val in clargs.__dict__.items():\n",
        "      print('{:20}{}'.format(key,val))\n",
        "\n",
        "    info_message(\"Training Chromosome \"+str(clargs.chromosomeID)+\" Generation \"+str(clargs.generationID))\n",
        "    try:\n",
        "      chromosome = Chromosome(**chrom_params)\n",
        "      chromosome.verbose = True\n",
        "      chromosome.train(verbose=True)\n",
        "      chromosome.model.summary()\n",
        "      chromosome.train(verbose=True)\n",
        "      K.clear_session()\n",
        "    except Exception as e:\n",
        "      warning_message(\"Error has occured while training\")\n",
        "      print(e)\n",
        "      chromosome = None\n",
        "      continue\n",
        "\n",
        "    info_message('\\n')\n",
        "    print('Result: ', end=\" \")\n",
        "    print('GenerationID: {}'.format(chromosome.generationID), end=\" \")\n",
        "    print('ChromosomeID: {}'.format(chromosome.chromosomeID), end=\" \")\n",
        "    print('Fitness: {}\\n'.format(chromosome.fitness))\n",
        "\n",
        "    params[\"isTrained\"] = 2\n",
        "    params[\"fitness\"] = chromosome.fitness\n",
        "    params[\"val_vae_reconstruction_loss\"] = chromosome.best_loss['val_vae_reconstruction_loss']\n",
        "    params[\"val_vae_latent_args_loss\"] = chromosome.best_loss['val_vae_latent_args_loss']\n",
        "    params[\"val_dnn_latent_layer_loss\"] = chromosome.best_loss['val_dnn_latent_layer_loss']\n",
        "    params[\"val_dnn_latent_mod_loss\"] = chromosome.best_loss['val_dnn_latent_mod_loss']\n",
        "    params[\"hostname\"] = clargs.hostname\n",
        "    params[\"time_stamp\"] = clargs.time_stamp\n",
        "\n",
        "    sent = False\n",
        "    while(not sent):\n",
        "      try:\n",
        "        resp = requests.get(url=\"http://LAUDeepGenerativeGenetics.pythonanywhere.com/AddChrom\", params=params)\n",
        "        info_message(\"Response: \"+resp.text)\n",
        "        sent = (resp.text == \"1\")\n",
        "      except:\n",
        "        sent = False\n"
      ],
      "execution_count": 0,
      "outputs": []
    }
  ]
}
